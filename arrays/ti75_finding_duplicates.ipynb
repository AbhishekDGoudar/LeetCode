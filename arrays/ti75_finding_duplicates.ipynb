{
 "cells": [
  {
   "cell_type": "code",
   "execution_count": null,
   "metadata": {},
   "outputs": [],
   "source": [
    "# Given an integer array nums, return true if any value appears at least twice in the array, and return false if every element is distinct.\n",
    "\n",
    " \n",
    "\n",
    "# Example 1:\n",
    "\n",
    "# Input: nums = [1,2,3,1]\n",
    "# Output: true\n",
    "# Example 2:\n",
    "\n",
    "# Input: nums = [1,2,3,4]\n",
    "# Output: false\n",
    "# Example 3:\n",
    "\n",
    "# Input: nums = [1,1,1,3,3,4,3,2,4,2]\n",
    "# Output: true\n",
    " \n",
    "\n",
    "# Constraints:\n",
    "\n",
    "# 1 <= nums.length <= 10^5\n",
    "# -10^9 <= nums[i] <= 10^9"
   ]
  },
  {
   "cell_type": "code",
   "execution_count": 22,
   "metadata": {},
   "outputs": [
    {
     "name": "stdout",
     "output_type": "stream",
     "text": [
      "True\n",
      "True\n",
      "False\n"
     ]
    }
   ],
   "source": [
    "def contains_duplicate_old(nums: list[int]) -> bool:\n",
    "    for i in range(0, len(nums)):\n",
    "        for j in range(0, len(nums)):\n",
    "            if  (i != j) and nums[i]==nums[j]:\n",
    "                return True\n",
    "    return False\n",
    "\n",
    "print(contains_duplicate_old([1,1,1,3,3,4,3,2,4,2]))\n",
    "print(contains_duplicate_old([1,2,3,1]))\n",
    "print(contains_duplicate_old([1,2,3,4]))"
   ]
  },
  {
   "cell_type": "code",
   "execution_count": 21,
   "metadata": {},
   "outputs": [
    {
     "name": "stdout",
     "output_type": "stream",
     "text": [
      "True\n",
      "True\n",
      "False\n"
     ]
    }
   ],
   "source": [
    "def contains_duplicate(nums: list[int]) -> bool:\n",
    "    nums.sort()\n",
    "    for ind in range(0, len(nums)-1):\n",
    "        if nums[ind] == nums[ind+1]:\n",
    "            return True\n",
    "    return False\n",
    "\n",
    "print(contains_duplicate([1,1,1,3,3,4,3,2,4,2]))\n",
    "print(contains_duplicate([1,2,3,1]))\n",
    "print(contains_duplicate([1,2,3,4]))\n"
   ]
  },
  {
   "cell_type": "code",
   "execution_count": 23,
   "metadata": {},
   "outputs": [
    {
     "name": "stdout",
     "output_type": "stream",
     "text": [
      "True\n",
      "False\n",
      "True\n"
     ]
    }
   ],
   "source": [
    "def contains_duplicate_new(nums: list[int]) -> bool:\n",
    "    hashset = set()\n",
    "    for num in nums:\n",
    "        if num in hashset:\n",
    "            return True\n",
    "        hashset.add(num)\n",
    "    return False\n",
    "\n",
    "print(contains_duplicate_new([1,1,1,3,3,4,3,2,4,2]))\n",
    "print(contains_duplicate([1,2,3,4]))\n",
    "print(contains_duplicate_old([1,2,3,1]))"
   ]
  }
 ],
 "metadata": {
  "kernelspec": {
   "display_name": "Python 3",
   "language": "python",
   "name": "python3"
  },
  "language_info": {
   "codemirror_mode": {
    "name": "ipython",
    "version": 3
   },
   "file_extension": ".py",
   "mimetype": "text/x-python",
   "name": "python",
   "nbconvert_exporter": "python",
   "pygments_lexer": "ipython3",
   "version": "3.9.6"
  },
  "orig_nbformat": 4
 },
 "nbformat": 4,
 "nbformat_minor": 2
}
