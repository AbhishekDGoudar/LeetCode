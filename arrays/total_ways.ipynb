{
 "cells": [
  {
   "cell_type": "markdown",
   "metadata": {},
   "source": [
    "You are given two positive integers n and limit.\n",
    " \n",
    "Return the total number of ways to distribute n items among 3 slots such that no slot gets more than limit items.\n",
    " \n",
    " \n",
    "Example 1:\n",
    " \n",
    "Input: n = 5, limit = 2\n",
    "Output: 3\n",
    "Explanation: There are 3 ways to distribute 5 items such that no slot gets more than 2 items: \n",
    "(1, 2, 2), (2, 1, 2) and (2, 2, 1).\n",
    " \n",
    "Example 2:\n",
    " \n",
    "Input: n = 3, limit = 3\n",
    "Output: 10\n",
    "Explanation: There are 10 ways to distribute 3 items such that no slot gets more than 3 items:\n",
    "(0, 0, 3), (0, 1, 2), (0, 2, 1), (0, 3, 0), (1, 0, 2), (1, 1, 1), (1, 2, 0), (2, 0, 1), (2, 1, 0) and (3, 0, 0)"
   ]
  },
  {
   "cell_type": "code",
   "execution_count": null,
   "metadata": {},
   "outputs": [],
   "source": []
  },
  {
   "cell_type": "code",
   "execution_count": 24,
   "metadata": {},
   "outputs": [
    {
     "name": "stdout",
     "output_type": "stream",
     "text": [
      "3\n",
      "10\n"
     ]
    }
   ],
   "source": [
    "# def find_total_ways(n, limit):\n",
    "#     possible_num = list(range(0, limit+1))\n",
    "#     combinations = []\n",
    "#     for i in possible_num:\n",
    "#         for j in possible_num:\n",
    "#             for k in possible_num:\n",
    "#                 if i+j+k == n:\n",
    "#                     combinations.append([i, j, k])\n",
    "    \n",
    "#     return len(combinations)\n",
    "\n",
    "def find_total_ways(n, limit):\n",
    "    count = 0\n",
    "    possible_num = range(0, limit + 1)\n",
    "    for i in possible_num:\n",
    "        for j in possible_num:\n",
    "            k = n - i - j\n",
    "            if 0 <= k <= limit:\n",
    "                count += 1\n",
    "    return count\n",
    "\n",
    "print(find_total_ways(5, 2))\n",
    "print(find_total_ways(3, 3))\n"
   ]
  }
 ],
 "metadata": {
  "kernelspec": {
   "display_name": "Python 3",
   "language": "python",
   "name": "python3"
  },
  "language_info": {
   "codemirror_mode": {
    "name": "ipython",
    "version": 3
   },
   "file_extension": ".py",
   "mimetype": "text/x-python",
   "name": "python",
   "nbconvert_exporter": "python",
   "pygments_lexer": "ipython3",
   "version": "3.9.6"
  },
  "orig_nbformat": 4
 },
 "nbformat": 4,
 "nbformat_minor": 2
}
