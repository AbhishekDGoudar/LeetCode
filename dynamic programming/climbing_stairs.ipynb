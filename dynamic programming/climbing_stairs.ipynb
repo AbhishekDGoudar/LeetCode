{
 "cells": [
  {
   "cell_type": "markdown",
   "metadata": {},
   "source": [
    "URL - https://leetcode.com/problems/climbing-stairs/description/\n",
    "\n",
    "## Problem Statement\n",
    "You are climbing a staircase. It takes n steps to reach the top.\n",
    "\n",
    "Each time you can either climb 1 or 2 steps. In how many distinct ways can you climb to the top?\n",
    "\n",
    " \n",
    "\n",
    "### Example 1:\n",
    "\n",
    "Input: n = 2\n",
    "Output: 2\n",
    "Explanation: There are two ways to climb to the top.\n",
    "1. 1 step + 1 step\n",
    "2. 2 steps\n",
    "\n",
    "### Example 2:\n",
    "\n",
    "Input: n = 3\n",
    "Output: 3\n",
    "Explanation: There are three ways to climb to the top.\n",
    "1. 1 step + 1 step + 1 step\n",
    "2. 1 step + 2 steps\n",
    "3. 2 steps + 1 step\n"
   ]
  },
  {
   "cell_type": "code",
   "execution_count": 12,
   "metadata": {},
   "outputs": [
    {
     "name": "stdout",
     "output_type": "stream",
     "text": [
      "[0, 1, 1, 2, 3, 5, 8, 13, 21, 34]\n"
     ]
    }
   ],
   "source": [
    "## Fibonacci series\n",
    "# F(0) = 0  F(1)=1  F(n)=F(n-1)+F(n-2)\n",
    "def fibonacci_series(n):\n",
    "    # series_map = {0:0, 1:1}\n",
    "    series = list(range(0, n))\n",
    "    series[0] = 0\n",
    "    series[1] = 1\n",
    "    i=2\n",
    "    while(i < n):\n",
    "        series[i] = series[i-1] + series[i-2]\n",
    "        i += 1\n",
    "    return series\n",
    "\n",
    "print(fibonacci_series(10))\n"
   ]
  },
  {
   "cell_type": "markdown",
   "metadata": {},
   "source": [
    "## Visualize it as a decision tree with two steps either to go with 1 step or 2 step\n"
   ]
  },
  {
   "cell_type": "code",
   "execution_count": 24,
   "metadata": {},
   "outputs": [
    {
     "name": "stdout",
     "output_type": "stream",
     "text": [
      "[2, 2, 3, 4, 5, 5, 5, 5, 6, 7, 7, 8, 8, 84]\n"
     ]
    }
   ],
   "source": [
    "## Count sort\n",
    "\n",
    "\n",
    "\n",
    "def count_sort(arr):\n",
    "    count = [0] * (max(arr)+1)\n",
    "    result = []\n",
    "    for i in arr:\n",
    "        count[i] += 1\n",
    "    \n",
    "    for index, value in enumerate(count):\n",
    "        result += [index] * value\n",
    "    return result\n",
    "        \n",
    "print(count_sort([5, 5, 5,2, 3,2,4,5,6,7,8,8,84,7]))"
   ]
  },
  {
   "cell_type": "code",
   "execution_count": 41,
   "metadata": {},
   "outputs": [
    {
     "name": "stdout",
     "output_type": "stream",
     "text": [
      "[2, 2, 3, 4, 5, 5, 5, 5, 6, 7, 7, 8, 8, 84]\n"
     ]
    }
   ],
   "source": [
    "## Insertion Sort\n",
    "# Space Complexity: O(1)\n",
    "# Time Complexity: O(n), O(n* n), O(n* n) for Best, Average, Worst cases respectively.\n",
    "# Best Case: array is already sorted\n",
    "# Average Case: array is randomly sorted\n",
    "# Worst Case: array is reversely sorted.\n",
    "# Sorting In Place: Yes\n",
    "# Stable: Yes\n",
    "\n",
    "def insertion_sort(arr):\n",
    "    for i in range(1, len(arr)):\n",
    "        key = arr[i]\n",
    "        j = i - 1\n",
    "        while( j>= 0 and key < arr[j]):\n",
    "            arr[j+1] = arr[j]\n",
    "            j = j - 1\n",
    "        arr[j+1] = key\n",
    "        i += 1 \n",
    "    return arr\n",
    "\n",
    "print(insertion_sort([5, 5, 5,2, 3,2,4,5,6,7,8,8,84,7]))"
   ]
  },
  {
   "cell_type": "code",
   "execution_count": 51,
   "metadata": {},
   "outputs": [
    {
     "name": "stdout",
     "output_type": "stream",
     "text": [
      "[2, 2, 3, 4, 5, 5, 5, 5, 6, 7, 7, 8, 8, 84]\n"
     ]
    }
   ],
   "source": [
    "def selection_sort(arr):\n",
    "    if arr:\n",
    "        for i in range(len(arr)):\n",
    "            min_i = i\n",
    "            for j in range(i+1, len(arr)):\n",
    "                if arr[j] < arr[min_i]:\n",
    "                    min_i=j\n",
    "            arr[i], arr[min_i] = arr[min_i], arr[i]\n",
    "    return arr\n",
    "print(selection_sort([5, 5, 5,2, 3,2,4,5,6,7,8,8,84,7]))\n"
   ]
  },
  {
   "cell_type": "code",
   "execution_count": 57,
   "metadata": {},
   "outputs": [
    {
     "name": "stdout",
     "output_type": "stream",
     "text": [
      "[2, 2, 3, 4, 5, 5, 5, 5, 6, 7, 7, 8, 8, 84]\n"
     ]
    }
   ],
   "source": [
    "## Bubble sort\n",
    "\n",
    "# Space complexity: O(1)\n",
    "# Best case performance: O(n)\n",
    "# Average case performance: O(n*n)\n",
    "# Worst case performance: O(n*n)\n",
    "# Stable: Yes\n",
    "\n",
    "\n",
    "def bubble_sort(arr):\n",
    "    if arr:\n",
    "        for i in range(len(arr)):\n",
    "            for j in range(len(arr)-i-1):\n",
    "                if arr[j+1] < arr[j]:\n",
    "                    arr[j], arr[j+1] = arr[j+1], arr[j]\n",
    "                # print(arr[j+1], arr[j], j)\n",
    "    return arr\n",
    "print(bubble_sort([5, 5, 5,2, 3,2,4,5,6,7,8,8,84,7]))\n"
   ]
  },
  {
   "cell_type": "code",
   "execution_count": 58,
   "metadata": {},
   "outputs": [
    {
     "name": "stdout",
     "output_type": "stream",
     "text": [
      "[2, 2, 3, 4, 5, 5, 5, 5, 6, 7, 7, 8, 8, 84]\n"
     ]
    }
   ],
   "source": [
    "def median_of_three(arr, low, high):\n",
    "    mid = (low + high) // 2\n",
    "\n",
    "    # Compare the three values and return the middle one\n",
    "    if arr[low] <= arr[mid] <= arr[high] or arr[high] <= arr[mid] <= arr[low]:\n",
    "        return mid\n",
    "    elif arr[mid] <= arr[low] <= arr[high] or arr[high] <= arr[low] <= arr[mid]:\n",
    "        return low\n",
    "    else:\n",
    "        return high\n",
    "\n",
    "\n",
    "def quicksort(arr):\n",
    "    if arr:\n",
    "        pivot_index = median_of_three(arr, 0, len(arr)-1)\n",
    "        pivot_val = arr[pivot_index]\n",
    "        left_bucket = [i for i in arr if i < pivot_val]\n",
    "        right_bucket = [i for i in arr if i > pivot_val]\n",
    "        mid = [i for i in arr if i == pivot_val]\n",
    "        res = quicksort(left_bucket)+mid+quicksort(right_bucket)\n",
    "        arr = res\n",
    "    return arr\n",
    "\n",
    "print(bubble_sort([5, 5, 5,2, 3,2,4,5,6,7,8,8,84,7]))\n"
   ]
  }
 ],
 "metadata": {
  "kernelspec": {
   "display_name": "Python 3",
   "language": "python",
   "name": "python3"
  },
  "language_info": {
   "codemirror_mode": {
    "name": "ipython",
    "version": 3
   },
   "file_extension": ".py",
   "mimetype": "text/x-python",
   "name": "python",
   "nbconvert_exporter": "python",
   "pygments_lexer": "ipython3",
   "version": "3.9.6"
  },
  "orig_nbformat": 4
 },
 "nbformat": 4,
 "nbformat_minor": 2
}
