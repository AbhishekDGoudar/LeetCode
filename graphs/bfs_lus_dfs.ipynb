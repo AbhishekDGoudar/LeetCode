{
 "cells": [
  {
   "cell_type": "code",
   "execution_count": 11,
   "metadata": {},
   "outputs": [],
   "source": [
    "from collections import defaultdict, deque\n",
    "\n",
    "class Graph:\n",
    "    def __init__(self):\n",
    "        self.graph = defaultdict(list)\n",
    "\n",
    "    def add_edge(self, u, v):\n",
    "        self.graph[u].append(v)\n",
    "\n",
    "    def dfs(self, start_vertex):\n",
    "        # import pdb; pdb.set_trace()\n",
    "\n",
    "        # Initialize a stack to keep track of vertices to visit\n",
    "        stack = [start_vertex]\n",
    "\n",
    "        # Set to keep track of visited vertices\n",
    "        visited = set()\n",
    "\n",
    "        # Perform DFS\n",
    "        while stack:\n",
    "            # Pop the top vertex from the stack\n",
    "            current_vertex = stack.pop()\n",
    "\n",
    "            # Visit the vertex if it has not been visited before\n",
    "            if current_vertex not in visited:\n",
    "                print(current_vertex, end=' ')\n",
    "                visited.add(current_vertex)\n",
    "\n",
    "                # Push unvisited neighbors onto the stack\n",
    "                stack.extend(neighbor for neighbor in reversed(self.graph[current_vertex]) if neighbor not in visited)\n",
    "\n",
    "    def bfs(self, start_vertex):\n",
    "        # Initialize a queue for BFS\n",
    "        queue = deque([start_vertex])\n",
    "\n",
    "        # Set to keep track of visited vertices\n",
    "        visited = set()\n",
    "\n",
    "        # Perform BFS\n",
    "        while queue:\n",
    "            # Dequeue a vertex from the front of the queue\n",
    "            current_vertex = queue.popleft()\n",
    "\n",
    "            # Visit the vertex if it has not been visited before\n",
    "            if current_vertex not in visited:\n",
    "                print(current_vertex, end=' ')\n",
    "                visited.add(current_vertex)\n",
    "\n",
    "                # Enqueue unvisited neighbors at the back of the queue\n",
    "                queue.extend(neighbor for neighbor in self.graph[current_vertex] if neighbor not in visited)\n",
    "\n"
   ]
  },
  {
   "cell_type": "code",
   "execution_count": 23,
   "metadata": {},
   "outputs": [
    {
     "name": "stdout",
     "output_type": "stream",
     "text": [
      "80 7 21 81\n",
      "40 40 101 55\n",
      "40 40 101\n"
     ]
    },
    {
     "data": {
      "text/plain": [
       "'2h21m'"
      ]
     },
     "execution_count": 23,
     "metadata": {},
     "output_type": "execute_result"
    }
   ],
   "source": [
    "def cal(N):\n",
    "    time = 0\n",
    "    if 100 >= N and N >= 81:\n",
    "        diff = abs(N - 81 )+1\n",
    "        time += (diff) * 3\n",
    "        N = N - diff\n",
    "        print(N, diff, time, 81)\n",
    "    if(80 >= N and N >= 41):\n",
    "        diff = abs(N - 41)+1\n",
    "        time += (diff) * 2\n",
    "        N = N - diff\n",
    "        print(N, diff, time, 55)\n",
    "    if(40 >= N and N >= 1):\n",
    "        diff = abs(N - 1)+1\n",
    "        print(N, diff, time)\n",
    "        time += (diff)* 1\n",
    "    h, m = divmod(time, 60)\n",
    "    \n",
    "    return f\"{h}h{m}m\"\n",
    "\n",
    "cal(87)"
   ]
  },
  {
   "cell_type": "code",
   "execution_count": 45,
   "metadata": {},
   "outputs": [
    {
     "data": {
      "text/plain": [
       "1"
      ]
     },
     "execution_count": 45,
     "metadata": {},
     "output_type": "execute_result"
    }
   ],
   "source": [
    "def ord(lemonCakes, chocolateCakes, raspberryCakes, orders):\n",
    "\n",
    "    fulfil_orders = 0\n",
    "    for order in orders:\n",
    "        has_fulfilled = True\n",
    "        for cake in order:\n",
    "            # print(cake)\n",
    "            if cake == \"L\":\n",
    "                if lemonCakes:\n",
    "                    lemonCakes -= 1\n",
    "                else:\n",
    "\n",
    "                    has_fulfilled = False\n",
    "            if cake == \"C\":\n",
    "                if chocolateCakes:\n",
    "                    chocolateCakes -= 1\n",
    "                else:\n",
    "                    has_fulfilled = False\n",
    "            if cake == \"R\":\n",
    "                if raspberryCakes:\n",
    "                    raspberryCakes -= 1\n",
    "                else:\n",
    "                    has_fulfilled = False\n",
    "        if has_fulfilled == True:\n",
    "            fulfil_orders += 1\n",
    "          \n",
    "  \n",
    "    return fulfil_orders\n",
    "# ord(3, 1, 0, [\"LRC\", \"CC\", \"LLLL\", \"LR\", \"L\", \"LL\"])\n",
    "ord(5,0,0,[\"LLL\",\"LLL\",\"L\"])"
   ]
  },
  {
   "cell_type": "code",
   "execution_count": 12,
   "metadata": {},
   "outputs": [
    {
     "name": "stdout",
     "output_type": "stream",
     "text": [
      "Depth-First Traversal starting from vertex 1:\n",
      "1 2 4 5 3 6 7 \n",
      "\n",
      "Breadth-First Traversal starting from vertex 1:\n",
      "1 2 3 4 5 6 7 "
     ]
    }
   ],
   "source": [
    "# Example usage:\n",
    "graph = Graph()\n",
    "\n",
    "# Adding edges to the graph\n",
    "graph.add_edge(1, 2)\n",
    "graph.add_edge(1, 3)\n",
    "graph.add_edge(2, 4)\n",
    "graph.add_edge(2, 5)\n",
    "graph.add_edge(3, 6)\n",
    "graph.add_edge(3, 7)\n",
    "\n",
    "print(\"Depth-First Traversal starting from vertex 1:\")\n",
    "graph.dfs(1)\n",
    "print(\"\\n\")\n",
    "\n",
    "print(\"Breadth-First Traversal starting from vertex 1:\")\n",
    "graph.bfs(1)"
   ]
  }
 ],
 "metadata": {
  "kernelspec": {
   "display_name": "Python 3",
   "language": "python",
   "name": "python3"
  },
  "language_info": {
   "codemirror_mode": {
    "name": "ipython",
    "version": 3
   },
   "file_extension": ".py",
   "mimetype": "text/x-python",
   "name": "python",
   "nbconvert_exporter": "python",
   "pygments_lexer": "ipython3",
   "version": "3.9.6"
  },
  "orig_nbformat": 4
 },
 "nbformat": 4,
 "nbformat_minor": 2
}
